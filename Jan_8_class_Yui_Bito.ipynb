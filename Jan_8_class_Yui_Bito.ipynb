{
  "nbformat": 4,
  "nbformat_minor": 0,
  "metadata": {
    "colab": {
      "provenance": [],
      "authorship_tag": "ABX9TyMTOEiENYFYHBfwk63zfLWu",
      "include_colab_link": true
    },
    "kernelspec": {
      "name": "python3",
      "display_name": "Python 3"
    },
    "language_info": {
      "name": "python"
    }
  },
  "cells": [
    {
      "cell_type": "markdown",
      "metadata": {
        "id": "view-in-github",
        "colab_type": "text"
      },
      "source": [
        "<a href=\"https://colab.research.google.com/github/Yui411/test/blob/main/Jan_8_class_Yui_Bito.ipynb\" target=\"_parent\"><img src=\"https://colab.research.google.com/assets/colab-badge.svg\" alt=\"Open In Colab\"/></a>"
      ]
    },
    {
      "cell_type": "markdown",
      "source": [
        "Jan.8 2025 DEA104 class."
      ],
      "metadata": {
        "id": "nYMBFfZXQ3EJ"
      }
    },
    {
      "cell_type": "code",
      "execution_count": 2,
      "metadata": {
        "colab": {
          "base_uri": "https://localhost:8080/"
        },
        "id": "9Fwr3XYHNR1F",
        "outputId": "73a3ca0d-92a0-4ec7-d779-6557838df49e"
      },
      "outputs": [
        {
          "output_type": "stream",
          "name": "stdout",
          "text": [
            "Hello World_ver.2\n"
          ]
        }
      ],
      "source": [
        "print(\"Hello World_ver.2\")"
      ]
    }
  ]
}