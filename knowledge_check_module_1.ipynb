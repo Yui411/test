{
  "nbformat": 4,
  "nbformat_minor": 0,
  "metadata": {
    "colab": {
      "provenance": [],
      "authorship_tag": "ABX9TyPJRcIJTyeuc9cQ4vyFwqQd",
      "include_colab_link": true
    },
    "kernelspec": {
      "name": "python3",
      "display_name": "Python 3"
    },
    "language_info": {
      "name": "python"
    }
  },
  "cells": [
    {
      "cell_type": "markdown",
      "metadata": {
        "id": "view-in-github",
        "colab_type": "text"
      },
      "source": [
        "<a href=\"https://colab.research.google.com/github/Yui411/test/blob/main/knowledge_check_module_1.ipynb\" target=\"_parent\"><img src=\"https://colab.research.google.com/assets/colab-badge.svg\" alt=\"Open In Colab\"/></a>"
      ]
    },
    {
      "cell_type": "code",
      "source": [
        "a = input('Enter your name:')\n",
        "b = input('Enter your country:')\n",
        "c = input('Enter your school:')\n",
        "d = input('Enter the location of your school:')\n",
        "print('My name is ' + a + ' from ' + b +  ' stydying at ' + c + ' in ' + d )\n"
      ],
      "metadata": {
        "colab": {
          "base_uri": "https://localhost:8080/"
        },
        "id": "_FQXd7u-_JwW",
        "outputId": "ab116e18-b750-4475-e7d6-1cca08288bf0"
      },
      "execution_count": 5,
      "outputs": [
        {
          "output_type": "stream",
          "name": "stdout",
          "text": [
            "Enter your name:YUI\n",
            "Enter your country:Japan\n",
            "Enter your school:CCTB\n",
            "Enter the location of your school:Vancouver\n",
            "My name is YUI from Japan stydying at CCTB in Vancouver\n"
          ]
        }
      ]
    }
  ]
}