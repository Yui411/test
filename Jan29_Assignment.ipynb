{
  "nbformat": 4,
  "nbformat_minor": 0,
  "metadata": {
    "colab": {
      "provenance": [],
      "authorship_tag": "ABX9TyPVNsbb93ofwX6ScJsD/uKm",
      "include_colab_link": true
    },
    "kernelspec": {
      "name": "python3",
      "display_name": "Python 3"
    },
    "language_info": {
      "name": "python"
    }
  },
  "cells": [
    {
      "cell_type": "markdown",
      "metadata": {
        "id": "view-in-github",
        "colab_type": "text"
      },
      "source": [
        "<a href=\"https://colab.research.google.com/github/Yui411/test/blob/main/Jan29_Assignment.ipynb\" target=\"_parent\"><img src=\"https://colab.research.google.com/assets/colab-badge.svg\" alt=\"Open In Colab\"/></a>"
      ]
    },
    {
      "cell_type": "code",
      "execution_count": 2,
      "metadata": {
        "colab": {
          "base_uri": "https://localhost:8080/"
        },
        "id": "VccDd8hjW8k3",
        "outputId": "3f183925-cd19-42f4-a2c9-bfb4c2a4b848"
      },
      "outputs": [
        {
          "output_type": "stream",
          "name": "stdout",
          "text": [
            "{10: 2, 40: 2, 50: 1, 14: 1}\n"
          ]
        }
      ],
      "source": [
        "def count_freq(numbers):\n",
        "    freq_dict = {}\n",
        "\n",
        "    for num in numbers:\n",
        "        if num in freq_dict:\n",
        "            freq_dict[num] += 1\n",
        "        else:\n",
        "            freq_dict[num] = 1\n",
        "\n",
        "    return freq_dict\n",
        "\n",
        "numbers = [10, 40, 50, 14, 40, 10]\n",
        "result = count_freq(numbers)\n",
        "print(result)"
      ]
    },
    {
      "cell_type": "code",
      "source": [],
      "metadata": {
        "id": "_3665Ho0XvFt"
      },
      "execution_count": null,
      "outputs": []
    }
  ]
}