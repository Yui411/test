{
  "nbformat": 4,
  "nbformat_minor": 0,
  "metadata": {
    "colab": {
      "provenance": [],
      "authorship_tag": "ABX9TyN8g88j5Y8QCD1nbSNhQ3HM",
      "include_colab_link": true
    },
    "kernelspec": {
      "name": "python3",
      "display_name": "Python 3"
    },
    "language_info": {
      "name": "python"
    }
  },
  "cells": [
    {
      "cell_type": "markdown",
      "metadata": {
        "id": "view-in-github",
        "colab_type": "text"
      },
      "source": [
        "<a href=\"https://colab.research.google.com/github/Yui411/test/blob/main/Module11_Errors_and_Exceptions.ipynb\" target=\"_parent\"><img src=\"https://colab.research.google.com/assets/colab-badge.svg\" alt=\"Open In Colab\"/></a>"
      ]
    },
    {
      "cell_type": "code",
      "execution_count": null,
      "metadata": {
        "id": "FCLlvXHQJcY6"
      },
      "outputs": [],
      "source": [
        "numbers = []\n",
        "\n",
        "while True:\n",
        "    try:\n",
        "        user_input = input(\"Enter a positive integer number: \")\n",
        "        if not user_input.isdigit():\n",
        "            print(\"- Entered a non integer value!\")\n",
        "            raise ValueError(f\"- Error message: invalid literal for int() with base 10: '{user_input}'\")\n",
        "\n",
        "        num = int(user_input)\n",
        "\n",
        "        if num < 0:\n",
        "            print(\"- Cannot enter a negative value! Stopped!\")\n",
        "            break\n",
        "        elif num == 0:\n",
        "            print(\"The program is done!\")\n",
        "            break\n",
        "        else:\n",
        "            numbers.append(num)\n",
        "    except ValueError as e:\n",
        "        print(e)\n",
        "\n",
        "if numbers:\n",
        "    print(f\"User entered: {numbers}\")\n",
        "    print(f\"The square of given numbers: {[num ** 2 for num in numbers]}\")"
      ]
    }
  ]
}